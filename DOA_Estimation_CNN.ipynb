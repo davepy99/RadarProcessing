{
  "nbformat": 4,
  "nbformat_minor": 0,
  "metadata": {
    "colab": {
      "provenance": [],
      "authorship_tag": "ABX9TyNM9POadfK/O6yUs1xVPaW/",
      "include_colab_link": true
    },
    "kernelspec": {
      "name": "python3",
      "display_name": "Python 3"
    },
    "language_info": {
      "name": "python"
    }
  },
  "cells": [
    {
      "cell_type": "markdown",
      "metadata": {
        "id": "view-in-github",
        "colab_type": "text"
      },
      "source": [
        "<a href=\"https://colab.research.google.com/github/davepy99/RadarProcessing/blob/main/DOA_Estimation_CNN.ipynb\" target=\"_parent\"><img src=\"https://colab.research.google.com/assets/colab-badge.svg\" alt=\"Open In Colab\"/></a>"
      ]
    },
    {
      "cell_type": "code",
      "execution_count": null,
      "metadata": {
        "id": "uS-FbDxwZbDH"
      },
      "outputs": [],
      "source": [
        "import h5py\n",
        "import torch\n",
        "import numpy as np\n",
        "\n",
        "# Load data from .mat file\n",
        "with h5py.File('DOA_Training_Data_2deg.mat', 'r') as f:\n",
        "    X_raw = np.array(f['covSet'])          # shape: (10000, 8, 8)\n",
        "    Y = np.array(f['labelSet'])       # shape: (5000, 181)\n",
        "    angleGrid = np.array(f['angleGrid']).flatten()\n",
        "\n",
        "\n",
        "# Split into real and imag\n",
        "N = Y.shape[0]\n",
        "X_real = X_raw[:N]\n",
        "X_imag = X_raw[N:2*N]\n",
        "\n",
        "# Combine into 2-channel tensor: [N, 2, 8, 8]\n",
        "X = np.stack([X_real, X_imag], axis=1)\n",
        "\n",
        "# Normalize\n",
        "mean = X.mean()\n",
        "std = X.std()\n",
        "X = (X - mean) / std\n",
        "\n",
        "# Convert to torch\n",
        "X = torch.tensor(X, dtype=torch.float32)\n",
        "Y = torch.tensor(Y, dtype=torch.float32)\n"
      ]
    },
    {
      "cell_type": "code",
      "source": [
        "from torch.utils.data import Dataset, DataLoader\n",
        "\n",
        "class DOADataset(Dataset):\n",
        "    def __init__(self, X, Y):\n",
        "        self.X = X\n",
        "        self.Y = Y\n",
        "\n",
        "    def __len__(self):\n",
        "        return len(self.X)\n",
        "\n",
        "    def __getitem__(self, idx):\n",
        "        return self.X[idx], self.Y[idx]\n",
        "\n",
        "# Split into training and test set\n",
        "train_size = int(0.8 * len(X))\n",
        "train_ds = DOADataset(X[:train_size], Y[:train_size])\n",
        "test_ds = DOADataset(X[train_size:], Y[train_size:])\n",
        "\n",
        "train_loader = DataLoader(train_ds, batch_size=64, shuffle=True)\n",
        "test_loader = DataLoader(test_ds, batch_size=64)\n"
      ],
      "metadata": {
        "id": "o6HJQivDZlhL"
      },
      "execution_count": null,
      "outputs": []
    },
    {
      "cell_type": "code",
      "source": [
        "import torch.nn as nn\n",
        "\n",
        "class DOACNN(nn.Module):\n",
        "    def __init__(self, output_bins):\n",
        "        super(DOACNN, self).__init__()\n",
        "        self.conv_block = nn.Sequential(\n",
        "            nn.Conv2d(2, 32, kernel_size=3, padding=1),\n",
        "            nn.BatchNorm2d(32),\n",
        "            nn.ReLU(),\n",
        "            nn.Conv2d(32, 64, kernel_size=3, padding=1),\n",
        "            nn.BatchNorm2d(64),\n",
        "            nn.ReLU(),\n",
        "            nn.MaxPool2d(2),\n",
        "            nn.Dropout(0.25)\n",
        "        )\n",
        "        self.fc_block = nn.Sequential(\n",
        "            nn.Linear(64 * 4 * 4, 256),\n",
        "            nn.ReLU(),\n",
        "            nn.Dropout(0.4),\n",
        "            nn.Linear(256, output_bins)\n",
        "        )\n",
        "\n",
        "    def forward(self, x):\n",
        "        x = self.conv_block(x)\n",
        "        x = x.view(x.size(0), -1)\n",
        "        return torch.sigmoid(self.fc_block(x))  # Multi-label prediction\n",
        "\n",
        "model = DOACNN(output_bins=Y.shape[1])\n",
        "\n"
      ],
      "metadata": {
        "id": "WhuC5zZJZsyR"
      },
      "execution_count": null,
      "outputs": []
    },
    {
      "cell_type": "code",
      "source": [
        "import torch.optim as optim\n",
        "\n",
        "criterion = nn.BCELoss()\n",
        "optimizer = optim.Adam(model.parameters(), lr=1e-3)\n",
        "\n",
        "# Training loop\n",
        "epochs = 20\n",
        "for epoch in range(epochs):\n",
        "    model.train()\n",
        "    running_loss = 0.0\n",
        "    for inputs, labels in train_loader:\n",
        "        optimizer.zero_grad()\n",
        "        outputs = model(inputs)\n",
        "        loss = criterion(outputs, labels)\n",
        "        loss.backward()\n",
        "        optimizer.step()\n",
        "        running_loss += loss.item()\n",
        "\n",
        "    print(f\"Epoch {epoch+1}/{epochs}, Loss: {running_loss / len(train_loader):.4f}\")\n"
      ],
      "metadata": {
        "colab": {
          "base_uri": "https://localhost:8080/"
        },
        "id": "dsRiMEaXZvZe",
        "outputId": "60269e44-32fb-46b6-9a35-d5b8b02e63e2"
      },
      "execution_count": null,
      "outputs": [
        {
          "output_type": "stream",
          "name": "stdout",
          "text": [
            "Epoch 1/20, Loss: 0.1046\n",
            "Epoch 2/20, Loss: 0.0696\n",
            "Epoch 3/20, Loss: 0.0619\n",
            "Epoch 4/20, Loss: 0.0578\n",
            "Epoch 5/20, Loss: 0.0550\n",
            "Epoch 6/20, Loss: 0.0531\n",
            "Epoch 7/20, Loss: 0.0517\n",
            "Epoch 8/20, Loss: 0.0507\n",
            "Epoch 9/20, Loss: 0.0497\n",
            "Epoch 10/20, Loss: 0.0491\n",
            "Epoch 11/20, Loss: 0.0483\n",
            "Epoch 12/20, Loss: 0.0478\n",
            "Epoch 13/20, Loss: 0.0473\n",
            "Epoch 14/20, Loss: 0.0468\n",
            "Epoch 15/20, Loss: 0.0464\n",
            "Epoch 16/20, Loss: 0.0460\n",
            "Epoch 17/20, Loss: 0.0454\n",
            "Epoch 18/20, Loss: 0.0452\n",
            "Epoch 19/20, Loss: 0.0448\n",
            "Epoch 20/20, Loss: 0.0446\n"
          ]
        }
      ]
    },
    {
      "cell_type": "code",
      "source": [
        "import matplotlib.pyplot as plt\n",
        "\n",
        "# Test on a single example\n",
        "model.eval()\n",
        "sample_idx = 1000\n",
        "test_output = model(X[sample_idx:sample_idx+1])\n",
        "predicted_bins = (test_output > 0.3).nonzero(as_tuple=True)[1]\n",
        "predicted_angles = angleGrid[predicted_bins]\n",
        "\n",
        "# Ground truth\n",
        "true_bins = (Y[sample_idx] > 0.5).nonzero(as_tuple=True)[0]\n",
        "true_angles = angleGrid[true_bins]\n",
        "\n",
        "print(\"🔮 Estimated DOAs:\", predicted_angles.tolist())\n",
        "print(\"✅ Ground Truth DOAs:\", true_angles.tolist())\n",
        "\n",
        "# Optional: visualize\n",
        "plt.figure(figsize=(10, 4))\n",
        "plt.plot(angleGrid, test_output[0].detach().numpy(), label=\"Predicted\")\n",
        "plt.plot(angleGrid, Y[sample_idx].numpy(), '--', label=\"Ground Truth\")\n",
        "plt.title(\"DOA Prediction vs Ground Truth\")\n",
        "plt.xlabel(\"Angle (°)\")\n",
        "plt.ylabel(\"Probability\")\n",
        "plt.grid(True)\n",
        "plt.legend()\n",
        "plt.show()\n"
      ],
      "metadata": {
        "colab": {
          "base_uri": "https://localhost:8080/",
          "height": 445
        },
        "id": "bCdC_lGsZyiT",
        "outputId": "44195340-95ae-433d-f114-09e4b67dff8b"
      },
      "execution_count": null,
      "outputs": [
        {
          "output_type": "stream",
          "name": "stdout",
          "text": [
            "🔮 Estimated DOAs: [16.0, 36.0, 66.0, 68.0]\n",
            "✅ Ground Truth DOAs: [16.0, 38.0, 68.0]\n"
          ]
        },
        {
          "output_type": "display_data",
          "data": {
            "text/plain": [
              "<Figure size 1000x400 with 1 Axes>"
            ],
            "image/png": "[encoded data removed]"
          },
          "metadata": {}
        }
      ]
    },
    {
      "cell_type": "code",
      "source": [
        "import h5py\n",
        "import numpy as np\n",
        "import torch\n",
        "\n",
        "# Load .mat test data\n",
        "# with h5py.File('DOA_Test_Data_2deg.mat', 'r') as f:\n",
        "with h5py.File('DOA_Test_Data_2deg_narrow.mat', 'r') as f:\n",
        "    test_X_raw = np.array(f['covSet'])          # shape: [4000, 8, 8]\n",
        "    test_Y_raw = np.array(f['labelSet'])        # shape: [2000, 91]\n",
        "    test_angleGrid = np.array(f['angleGrid']).flatten()\n",
        "\n",
        "# Number of test examples\n",
        "test_N = test_Y_raw.shape[0]  # = 2000\n",
        "\n",
        "# Split real and imag from stacked samples\n",
        "test_X_real = test_X_raw[:test_N]              # shape: [2000, 8, 8]\n",
        "test_X_imag = test_X_raw[test_N:2*test_N]      # shape: [2000, 8, 8]\n",
        "\n",
        "# Stack into [N, 2, 8, 8]\n",
        "test_X = np.stack([test_X_real, test_X_imag], axis=1)  # [2000, 2, 8, 8]\n",
        "\n",
        "# Normalize using training mean and std\n",
        "test_X = (test_X - mean) / std  # mean and std from training data\n",
        "\n",
        "# Convert to torch tensors\n",
        "test_X = torch.tensor(test_X, dtype=torch.float32)\n",
        "test_Y = torch.tensor(test_Y_raw, dtype=torch.float32)  # already shape [2000, 91]\n"
      ],
      "metadata": {
        "id": "tzYzNv3XaBQI"
      },
      "execution_count": null,
      "outputs": []
    },
    {
      "cell_type": "code",
      "source": [],
      "metadata": {
        "id": "DEd4LFPkeUFd"
      },
      "execution_count": null,
      "outputs": []
    },
    {
      "cell_type": "code",
      "source": [
        "for test_number in range (10):\n",
        "  test_number = test_number+100\n",
        "  test_output = model(test_X[test_number:(test_number+1)])\n",
        "  (test_output[0] > 0.15).nonzero(as_tuple=True)[0]\n",
        "  predicted_indices = (test_output[0] > 0.15).nonzero(as_tuple=True)[0]\n",
        "  predicted_angles = test_angleGrid[predicted_indices]\n",
        "  print(\"Estimated DOAs:\", predicted_angles.tolist())\n",
        "\n",
        "  (test_Y[test_number] > 0.5).nonzero(as_tuple=True)[0]\n",
        "  predicted_indices = (test_Y[test_number] > 0.15).nonzero(as_tuple=True)[0]\n",
        "  predicted_angles = test_angleGrid[predicted_indices]\n",
        "  print(\"Real DOAs:\", predicted_angles.tolist())"
      ],
      "metadata": {
        "colab": {
          "base_uri": "https://localhost:8080/"
        },
        "id": "F-sUH0Abe3xq",
        "outputId": "15bcae56-51ba-4494-c8d5-f91bde349da8"
      },
      "execution_count": null,
      "outputs": [
        {
          "output_type": "stream",
          "name": "stdout",
          "text": [
            "Estimated DOAs: [-62.0, -60.0]\n",
            "Real DOAs: -60.0\n",
            "Estimated DOAs: [-42.0, -40.0]\n",
            "Real DOAs: -42.0\n",
            "Estimated DOAs: [-6.0, -4.0, 54.0, 56.0]\n",
            "Real DOAs: [-4.0, 54.0]\n",
            "Estimated DOAs: [50.0, 52.0, 54.0, 56.0, 58.0]\n",
            "Real DOAs: [52.0, 58.0]\n",
            "Estimated DOAs: [-26.0, -24.0, -22.0, -20.0]\n",
            "Real DOAs: [-26.0, -20.0]\n",
            "Estimated DOAs: [-38.0, -36.0, -2.0, 0.0, 34.0, 36.0]\n",
            "Real DOAs: [-38.0, -2.0, 36.0]\n",
            "Estimated DOAs: [56.0, 58.0, 60.0, 62.0, 64.0, 66.0, 68.0]\n",
            "Real DOAs: [58.0, 64.0]\n",
            "Estimated DOAs: [-36.0, 40.0, 42.0, 44.0, 46.0, 62.0, 66.0, 68.0]\n",
            "Real DOAs: [-36.0, 44.0, 62.0]\n",
            "Estimated DOAs: [-70.0, -68.0, -66.0, -64.0, -62.0, -44.0, -42.0]\n",
            "Real DOAs: [-70.0, -64.0, -42.0]\n",
            "Estimated DOAs: [-14.0, -12.0, 24.0, 26.0, 28.0, 30.0, 32.0]\n",
            "Real DOAs: [-12.0, 26.0, 34.0]\n"
          ]
        }
      ]
    },
    {
      "cell_type": "code",
      "source": [
        "(test_Y[test_number] > 0.5).nonzero(as_tuple=True)[0]\n",
        "predicted_indices = (test_Y[test_number] > 0.15).nonzero(as_tuple=True)[0]\n",
        "predicted_angles = test_angleGrid[predicted_indices]\n",
        "print(\"Estimated DOAs:\", predicted_angles.tolist())"
      ],
      "metadata": {
        "colab": {
          "base_uri": "https://localhost:8080/"
        },
        "id": "Ar3S46E_fPb5",
        "outputId": "bf949a60-d4c9-4136-cf1d-726ee69aa577"
      },
      "execution_count": null,
      "outputs": [
        {
          "output_type": "stream",
          "name": "stdout",
          "text": [
            "Estimated DOAs: [-12.0, 26.0, 34.0]\n"
          ]
        }
      ]
    },
    {
      "cell_type": "code",
      "source": [
        "def group_estimated_DOAs(estimated_angles, tolerance=3, padding=5, min_angle=-90.0, max_angle=90.0):\n",
        "    \"\"\"Group estimated DOAs into scan ranges, clipped to [-90, 90].\"\"\"\n",
        "\n",
        "    # Convert scalar to list\n",
        "    if isinstance(estimated_angles, (float, int, np.float32, np.float64)):\n",
        "        estimated_angles = [float(estimated_angles)]\n",
        "    else:\n",
        "        estimated_angles = list(estimated_angles)\n",
        "\n",
        "    if len(estimated_angles) == 0:\n",
        "        return []\n",
        "\n",
        "    estimated_angles.sort()\n",
        "\n",
        "    if len(estimated_angles) == 1:\n",
        "        angle = float(estimated_angles[0])\n",
        "        low = max(angle - padding, min_angle)\n",
        "        high = min(angle + padding, max_angle)\n",
        "        return [(low, high)]\n",
        "\n",
        "    groups = [[estimated_angles[0]]]\n",
        "\n",
        "    for angle in estimated_angles[1:]:\n",
        "        if angle - groups[-1][-1] <= tolerance:\n",
        "            groups[-1].append(angle)\n",
        "        else:\n",
        "            groups.append([angle])\n",
        "\n",
        "    # Build and clip ranges\n",
        "    scan_ranges = []\n",
        "    for group in groups:\n",
        "        low = max(float(min(group)) - padding, min_angle)\n",
        "        high = min(float(max(group)) + padding, max_angle)\n",
        "        scan_ranges.append((low, high))\n",
        "\n",
        "    return scan_ranges\n"
      ],
      "metadata": {
        "id": "BU3L9syXf3m8"
      },
      "execution_count": null,
      "outputs": []
    },
    {
      "cell_type": "code",
      "source": [
        "for test_number in range (10):\n",
        "  test_number = test_number+99\n",
        "  test_output = model(test_X[test_number:(test_number+1)])\n",
        "  (test_output[0] > 0.15).nonzero(as_tuple=True)[0]\n",
        "  predicted_indices = (test_output[0] > 0.15).nonzero(as_tuple=True)[0]\n",
        "  predicted_angles = test_angleGrid[predicted_indices]\n",
        "  ranges = group_estimated_DOAs(predicted_angles)\n",
        "  print(\"Estimated Ranges:\", ranges)\n",
        "\n",
        "  (test_Y[test_number] > 0.5).nonzero(as_tuple=True)[0]\n",
        "  predicted_indices = (test_Y[test_number] > 0.15).nonzero(as_tuple=True)[0]\n",
        "  predicted_angles = test_angleGrid[predicted_indices]\n",
        "  print(\"Real DOAs:\", predicted_angles.tolist())"
      ],
      "metadata": {
        "colab": {
          "base_uri": "https://localhost:8080/"
        },
        "id": "IT3AqJ-EtWmZ",
        "outputId": "4d464729-7ab9-4cd8-93e1-a85138085843"
      },
      "execution_count": null,
      "outputs": [
        {
          "output_type": "stream",
          "name": "stdout",
          "text": [
            "Estimated Ranges: [(-53.0, -39.0), (-11.0, 1.0)]\n",
            "Real DOAs: [-46.0, -6.0]\n",
            "Estimated Ranges: [(-67.0, -55.0)]\n",
            "Real DOAs: -60.0\n",
            "Estimated Ranges: [(-47.0, -35.0)]\n",
            "Real DOAs: -42.0\n",
            "Estimated Ranges: [(-11.0, 1.0), (49.0, 61.0)]\n",
            "Real DOAs: [-4.0, 54.0]\n",
            "Estimated Ranges: [(45.0, 63.0)]\n",
            "Real DOAs: [52.0, 58.0]\n",
            "Estimated Ranges: [(-31.0, -15.0)]\n",
            "Real DOAs: [-26.0, -20.0]\n",
            "Estimated Ranges: [(-43.0, -31.0), (-7.0, 5.0), (29.0, 41.0)]\n",
            "Real DOAs: [-38.0, -2.0, 36.0]\n",
            "Estimated Ranges: [(51.0, 73.0)]\n",
            "Real DOAs: [58.0, 64.0]\n",
            "Estimated Ranges: [(-41.0, -31.0), (35.0, 51.0), (57.0, 67.0), (61.0, 73.0)]\n",
            "Real DOAs: [-36.0, 44.0, 62.0]\n",
            "Estimated Ranges: [(-75.0, -57.0), (-49.0, -37.0)]\n",
            "Real DOAs: [-70.0, -64.0, -42.0]\n"
          ]
        }
      ]
    },
    {
      "cell_type": "code",
      "source": [
        "def is_DOA_covered(true_angles, predicted_ranges):\n",
        "    \"\"\"Check if all true DOAs are covered by predicted ranges (robust to scalar).\"\"\"\n",
        "    # Ensure true_angles is iterable\n",
        "    if isinstance(true_angles, (float, int, np.float32, np.float64)):\n",
        "        true_angles = [float(true_angles)]\n",
        "    else:\n",
        "        true_angles = list(true_angles)\n",
        "\n",
        "    for angle in true_angles:\n",
        "        if not any(low <= angle <= high for (low, high) in predicted_ranges):\n",
        "            return False  # one DOA is not covered\n",
        "    return True\n"
      ],
      "metadata": {
        "id": "kzcWMRdatph7"
      },
      "execution_count": null,
      "outputs": []
    },
    {
      "cell_type": "code",
      "source": [
        "model.eval()\n",
        "covered_count = 0\n",
        "total_samples = 2000\n",
        "\n",
        "with torch.no_grad():\n",
        "    for i in range(total_samples):\n",
        "        test_output = model(test_X[i:(i+1)])\n",
        "        (test_output[0] > 0.15).nonzero(as_tuple=True)[0]\n",
        "        predicted_indices = (test_output[0] > 0.15).nonzero(as_tuple=True)[0]\n",
        "        predicted_angles = test_angleGrid[predicted_indices]\n",
        "        scan_ranges = group_estimated_DOAs(predicted_angles)\n",
        "\n",
        "        # print(scan_ranges)\n",
        "        true_bins = (test_Y[i] > 0.5).nonzero(as_tuple=True)[0]\n",
        "        true_angles = test_angleGrid[true_bins]\n",
        "        # print(true_angles)\n",
        "        if is_DOA_covered(true_angles, scan_ranges):\n",
        "            covered_count += 1\n",
        "\n",
        "coverage_accuracy = covered_count / total_samples\n",
        "print(f\"✅ DOA Coverage Accuracy: {coverage_accuracy:.2%}\")\n"
      ],
      "metadata": {
        "colab": {
          "base_uri": "https://localhost:8080/"
        },
        "collapsed": true,
        "id": "CBh_GS84wQtb",
        "outputId": "32e0762f-a2ed-40ef-edfc-20cc384019be"
      },
      "execution_count": null,
      "outputs": [
        {
          "output_type": "stream",
          "name": "stdout",
          "text": [
            "✅ DOA Coverage Accuracy: 91.75%\n"
          ]
        }
      ]
    },
    {
      "cell_type": "code",
      "source": [
        "model(test_X[i:(i+1)])"
      ],
      "metadata": {
        "colab": {
          "base_uri": "https://localhost:8080/"
        },
        "id": "FPdtaovYwjBy",
        "outputId": "00a93d87-2680-41a6-93fd-e13403fde3ed"
      },
      "execution_count": null,
      "outputs": [
        {
          "output_type": "execute_result",
          "data": {
            "text/plain": [
              "tensor([[2.7992e-05, 2.5194e-05, 9.5969e-06, 1.3402e-05, 4.0081e-06, 3.8714e-06,\n",
              "         5.2002e-06, 6.6930e-06, 6.1239e-07, 5.4525e-07, 4.8910e-06, 4.3549e-06,\n",
              "         1.1347e-05, 1.0929e-05, 2.7873e-05, 1.4384e-05, 1.7075e-04, 8.9838e-03,\n",
              "         1.6972e-01, 3.2306e-01, 5.6320e-01, 1.1064e-01, 1.7215e-03, 3.0305e-05,\n",
              "         6.6514e-08, 3.6708e-08, 1.4051e-08, 1.7311e-07, 3.9081e-07, 8.4191e-07,\n",
              "         2.4856e-05, 2.2884e-03, 1.4777e-01, 5.5360e-01, 1.4888e-01, 1.4931e-03,\n",
              "         7.4075e-06, 4.4176e-08, 4.0385e-10, 3.9766e-10, 1.1338e-09, 5.6713e-08,\n",
              "         1.9047e-05, 1.3483e-02, 2.5516e-01, 4.1194e-01, 2.6215e-01, 3.3356e-03,\n",
              "         4.5634e-06, 3.0321e-08, 9.4020e-08, 3.1773e-09, 5.8969e-09, 4.0909e-09,\n",
              "         2.3605e-07, 9.0316e-07, 3.4173e-08, 2.5827e-09, 8.1544e-10, 3.8529e-10,\n",
              "         6.7494e-12, 2.3269e-11, 9.0603e-10, 8.6874e-09, 9.6022e-09, 8.4515e-08,\n",
              "         1.3652e-06, 7.7228e-06, 1.9492e-06, 2.7290e-08, 2.2662e-07, 4.5805e-08,\n",
              "         5.3454e-08, 2.3592e-07, 2.2797e-07, 3.3829e-07, 1.9954e-06, 3.4066e-06,\n",
              "         6.6658e-06, 4.6468e-06, 7.3597e-07, 9.9730e-08, 1.5759e-07, 5.6825e-07,\n",
              "         1.6782e-06, 1.4738e-06, 5.0149e-06, 8.9217e-06, 1.5010e-05, 9.2952e-06,\n",
              "         6.6246e-06]], grad_fn=<SigmoidBackward0>)"
            ]
          },
          "metadata": {},
          "execution_count": 13
        }
      ]
    },
    {
      "cell_type": "code",
      "source": [
        "total_scan_width = 0.0\n",
        "\n",
        "model.eval()\n",
        "covered_count = 0\n",
        "total_samples = len(test_X)\n",
        "\n",
        "with torch.no_grad():\n",
        "    for i in range(total_samples):\n",
        "        test_output = model(test_X[i:(i+1)])\n",
        "        (test_output[0] > 0.15).nonzero(as_tuple=True)[0]\n",
        "        predicted_indices = (test_output[0] > 0.15).nonzero(as_tuple=True)[0]\n",
        "        predicted_angles = test_angleGrid[predicted_indices]\n",
        "        scan_ranges = group_estimated_DOAs(predicted_angles)\n",
        "\n",
        "        # === New: Measure scan width ===\n",
        "        for low, high in scan_ranges:\n",
        "            total_scan_width += (high - low)\n",
        "\n",
        "        # === Coverage check (optional) ===\n",
        "        true_bins = (test_Y[i] > 0.5).nonzero(as_tuple=True)[0]\n",
        "        true_angles = test_angleGrid[true_bins]\n",
        "\n",
        "        if is_DOA_covered(true_angles, scan_ranges):\n",
        "            covered_count += 1\n",
        "\n",
        "# Metrics\n",
        "coverage_accuracy = covered_count / total_samples\n",
        "avg_scan_fraction = total_scan_width / (total_samples * 180.0)\n",
        "\n",
        "print(f\"DOA Coverage Accuracy: {coverage_accuracy:.2%}\")\n",
        "print(f\"Avg. Scan Coverage: {avg_scan_fraction:.2%} of 180°\")\n",
        "print(f\"Avg. Time Saved: {(1 - avg_scan_fraction):.2%}\")\n"
      ],
      "metadata": {
        "colab": {
          "base_uri": "https://localhost:8080/"
        },
        "id": "qdJ0f_gxx7P2",
        "outputId": "3f35c821-0bdb-42dd-8b00-ca76112159b2"
      },
      "execution_count": null,
      "outputs": [
        {
          "output_type": "stream",
          "name": "stdout",
          "text": [
            "DOA Coverage Accuracy: 91.75%\n",
            "Avg. Scan Coverage: 12.00% of 180°\n",
            "Avg. Time Saved: 88.00%\n"
          ]
        }
      ]
    },
    {
      "cell_type": "code",
      "source": [
        "## MUSIC Part"
      ],
      "metadata": {
        "id": "ayjUFs_z2enF"
      },
      "execution_count": null,
      "outputs": []
    },
    {
      "cell_type": "code",
      "source": [
        "import numpy as np\n",
        "from numpy.linalg import eig\n",
        "import matplotlib.pyplot as plt\n",
        "\n",
        "def apply_music(cov_matrix, scan_angles, num_sources, M=8):\n",
        "    \"\"\"Standard MUSIC algorithm on a reduced scan range.\"\"\"\n",
        "    R = cov_matrix\n",
        "    _, E = eig(R)\n",
        "    E = np.fliplr(E)  # sort eigenvectors by descending eigenvalues (rough)\n",
        "    En = E[:, num_sources:]  # noise subspace\n",
        "\n",
        "    d = 0.5  # spacing in wavelengths\n",
        "    spectrum = []\n",
        "\n",
        "    for angle in scan_angles:\n",
        "        theta = np.deg2rad(angle)\n",
        "        a = np.exp(1j * 2 * np.pi * d * np.arange(M) * np.sin(theta))[:, np.newaxis]\n",
        "        psd = 1 / np.abs((a.conj().T @ En @ En.conj().T @ a))[0, 0]\n",
        "        spectrum.append(psd.real)\n",
        "\n",
        "    spectrum = np.array(spectrum)\n",
        "    spectrum_dB = 10 * np.log10(spectrum / np.max(spectrum))\n",
        "    return spectrum_dB\n"
      ],
      "metadata": {
        "id": "ByrqpgDd40vW"
      },
      "execution_count": null,
      "outputs": []
    },
    {
      "cell_type": "code",
      "source": [
        "model.eval()\n",
        "predicted_DOAs = []\n",
        "\n",
        "with torch.no_grad():\n",
        "    for i in range(1):\n",
        "        test_output = model(test_X[i:(i+1)])\n",
        "        (test_output[0] > 0.15).nonzero(as_tuple=True)[0]\n",
        "        predicted_indices = (test_output[0] > 0.15).nonzero(as_tuple=True)[0]\n",
        "        predicted_angles = test_angleGrid[predicted_indices]\n",
        "        scan_ranges = group_estimated_DOAs(predicted_angles)\n",
        "\n",
        "\n",
        "        # Combine scan ranges into one list of angles to evaluate\n",
        "        scan_angles = []\n",
        "        for low, high in scan_ranges:\n",
        "            scan_angles += list(np.arange(np.ceil(low), np.floor(high)+1, 1))  # 1° steps\n",
        "\n",
        "        scan_angles = sorted(set(scan_angles))  # remove duplicates\n",
        "        print(scan_angles)\n",
        "        # Rebuild full complex covariance matrix from real + imag\n",
        "        R_real = test_X[i, 0].numpy()\n",
        "        R_imag = test_X[i, 1].numpy()\n",
        "        R = R_real + 1j * R_imag\n",
        "        print(R)\n",
        "        # Estimate number of sources (or assume known)\n",
        "        num_sources = int(test_Y[i].sum().item())  # or fixed, e.g. 2\n",
        "\n",
        "        # Apply MUSIC\n",
        "        spectrum_dB = apply_music(R, scan_angles, num_sources=num_sources)\n",
        "        peak_indices = np.argpartition(spectrum_dB, -num_sources)[-num_sources:]\n",
        "        estimated = [scan_angles[k] for k in sorted(peak_indices)]\n",
        "        predicted_DOAs.append(estimated)\n"
      ],
      "metadata": {
        "colab": {
          "base_uri": "https://localhost:8080/"
        },
        "id": "MptLiIhW42__",
        "outputId": "e5f75f6b-63f6-447e-e5be-0e78bbfd225e"
      },
      "execution_count": null,
      "outputs": [
        {
          "output_type": "stream",
          "name": "stdout",
          "text": [
            "[np.float64(65.0), np.float64(66.0), np.float64(67.0), np.float64(68.0), np.float64(69.0), np.float64(70.0), np.float64(71.0), np.float64(72.0), np.float64(73.0), np.float64(74.0), np.float64(75.0), np.float64(76.0), np.float64(77.0)]\n",
            "[[ 0.85438156-0.08192629j -0.91252667+0.06661497j  0.70628864-0.40744072j\n",
            "  -0.794627  +0.38285103j  0.5273533 -0.673926j   -0.5778073 +0.60996926j\n",
            "   0.2616664 -0.84896475j -0.2796515 +0.74686325j]\n",
            " [-0.91252667-0.23046754j  0.8396153 -0.08192629j -0.9058076 +0.09395966j\n",
            "   0.69292843-0.40857333j -0.7811099 +0.38548842j  0.5275708 -0.66667444j\n",
            "  -0.5545581 +0.5981124j   0.25583217-0.8511915j ]\n",
            " [ 0.70628864+0.24358815j -0.9058076 -0.25781223j  0.8477965 -0.08192629j\n",
            "  -0.9146926 +0.07840158j  0.71043235-0.3941506j  -0.8032493 +0.36584032j\n",
            "   0.5266185 -0.65997696j -0.577573  +0.60655934j]\n",
            " [-0.794627  -0.5467036j   0.69292843+0.24472076j -0.9146926 -0.24225415j\n",
            "   0.85060334-0.08192629j -0.9214321 +0.0798074j   0.705805  -0.3888048j\n",
            "  -0.78658235+0.36974877j  0.53198314-0.6674736j ]\n",
            " [ 0.5273533 +0.5100734j  -0.7811099 -0.549341j    0.71043235+0.23029804j\n",
            "  -0.9214321 -0.24365997j  0.8572259 -0.08192629j -0.91938734+0.07210109j\n",
            "   0.6998478 -0.39202228j -0.79789096+0.37979823j]\n",
            " [-0.5778073 -0.77382183j  0.5275708 +0.50282186j -0.8032493 -0.5296929j\n",
            "   0.705805  +0.2249522j  -0.91938734-0.23595367j  0.8534259 -0.08192629j\n",
            "  -0.9030193 +0.08353005j  0.70625454-0.4057572j ]\n",
            " [ 0.2616664 +0.6851122j  -0.5545581 -0.761965j    0.5266185 +0.49612442j\n",
            "  -0.78658235-0.53360134j  0.6998478 +0.2281697j  -0.9030193 -0.24738263j\n",
            "   0.83096075-0.08192629j -0.90296763+0.07805606j]\n",
            " [-0.2796515 -0.9107158j   0.25583217+0.68733895j -0.577573  -0.7704119j\n",
            "   0.53198314+0.50362104j -0.79789096-0.5436508j   0.70625454+0.2419046j\n",
            "  -0.90296763-0.24190864j  0.8563615 -0.08192629j]]\n"
          ]
        }
      ]
    },
    {
      "cell_type": "code",
      "source": [
        "model.eval()\n",
        "predicted_DOAs = []\n",
        "\n",
        "with torch.no_grad():\n",
        "    for i in range(2):\n",
        "        test_output = model(test_X[i:(i+1)])\n",
        "        (test_output[0] > 0.15).nonzero(as_tuple=True)[0]\n",
        "        predicted_indices = (test_output[0] > 0.15).nonzero(as_tuple=True)[0]\n",
        "        predicted_angles = test_angleGrid[predicted_indices]\n",
        "        scan_ranges = group_estimated_DOAs(predicted_angles)\n",
        "\n",
        "\n",
        "        # Reconstruct covariance matrix\n",
        "        R_real = test_X[i, 0].numpy()\n",
        "        R_imag = test_X[i, 1].numpy()\n",
        "        R = R_real + 1j * R_imag\n",
        "\n",
        "        estimated_angles = []\n",
        "\n",
        "        for low, high in scan_ranges:\n",
        "            scan_angles = np.arange(np.ceil(low), np.floor(high)+1, 1)  # 1° steps\n",
        "\n",
        "            # Run MUSIC assuming 1 source\n",
        "            spectrum_dB = apply_music(R, scan_angles, num_sources=1)\n",
        "            peak_idx = np.argmax(spectrum_dB)\n",
        "            estimated_angle = scan_angles[peak_idx]\n",
        "\n",
        "            estimated_angles.append(estimated_angle)\n",
        "\n",
        "        predicted_DOAs.append(estimated_angles)\n",
        "\n",
        "print(predicted_DOAs)\n",
        "for i in range(1):\n",
        "    true_bins = (test_Y[i] > 0.5).nonzero(as_tuple=True)[0]\n",
        "    true_angles = test_angleGrid[true_bins].tolist()\n",
        "    print(f\"\\nSample {i}\")\n",
        "    print(\"Estimated DOAs:\", predicted_DOAs[i])\n",
        "    print(\"Real DOAs:\", true_angles)"
      ],
      "metadata": {
        "colab": {
          "base_uri": "https://localhost:8080/"
        },
        "id": "S8KPEITSDkI6",
        "outputId": "8ef5693c-42aa-4474-bcbb-c8d09433cb2a"
      },
      "execution_count": null,
      "outputs": [
        {
          "output_type": "stream",
          "name": "stdout",
          "text": [
            "[[np.float64(68.0)], [np.float64(-59.0), np.float64(-27.0), np.float64(-15.0)]]\n",
            "\n",
            "Sample 0\n",
            "Estimated DOAs: [np.float64(68.0)]\n",
            "Real DOAs: 70.0\n"
          ]
        }
      ]
    },
    {
      "cell_type": "code",
      "source": [
        "for i in range(2):\n",
        "    true_bins = (test_Y[i] > 0.5).nonzero(as_tuple=True)[0]\n",
        "    true_angles = test_angleGrid[true_bins].tolist()\n",
        "    print(f\"\\nSample {i}\")\n",
        "    print(\"Estimated DOAs:\", predicted_DOAs[i])\n",
        "    print(\"Real DOAs:\", true_angles)\n"
      ],
      "metadata": {
        "colab": {
          "base_uri": "https://localhost:8080/"
        },
        "id": "1E-pUJ8y5pI0",
        "outputId": "bba926a7-851a-44ae-8d3e-a05ee14a8e90"
      },
      "execution_count": null,
      "outputs": [
        {
          "output_type": "stream",
          "name": "stdout",
          "text": [
            "\n",
            "Sample 0\n",
            "Estimated DOAs: [np.float64(68.0)]\n",
            "Real DOAs: 70.0\n",
            "\n",
            "Sample 1\n",
            "Estimated DOAs: [np.float64(-59.0), np.float64(-27.0), np.float64(-15.0)]\n",
            "Real DOAs: [-52.0, -32.0, -14.0]\n"
          ]
        }
      ]
    },
    {
      "cell_type": "code",
      "source": [],
      "metadata": {
        "id": "bdhyfMqw5ZYi"
      },
      "execution_count": null,
      "outputs": []
    },
    {
      "cell_type": "code",
      "source": [],
      "metadata": {
        "id": "Rdryarmz5nve"
      },
      "execution_count": null,
      "outputs": []
    },
    {
      "cell_type": "code",
      "source": [],
      "metadata": {
        "id": "okz3JR885eME"
      },
      "execution_count": null,
      "outputs": []
    }
  ]
}